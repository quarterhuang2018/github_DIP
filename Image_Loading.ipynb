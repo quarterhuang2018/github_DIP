{
  "nbformat": 4,
  "nbformat_minor": 0,
  "metadata": {
    "colab": {
      "name": "Image_Loading.ipynb",
      "provenance": []
    },
    "kernelspec": {
      "name": "python3",
      "display_name": "Python 3"
    },
    "language_info": {
      "name": "python"
    }
  },
  "cells": [
    {
      "cell_type": "markdown",
      "metadata": {
        "id": "UnJAqrfeXNPO"
      },
      "source": [
        "Step1: import two packages"
      ]
    },
    {
      "cell_type": "code",
      "metadata": {
        "id": "v6Gxsej8VxHI"
      },
      "source": [
        "import cv2\n",
        "import google.colab.patches as colab"
      ],
      "execution_count": 1,
      "outputs": []
    },
    {
      "cell_type": "markdown",
      "metadata": {
        "id": "jRJ_NFMHXYfQ"
      },
      "source": [
        "Step2: load an image file in Google cloud drive"
      ]
    },
    {
      "cell_type": "code",
      "metadata": {
        "id": "YGIEDRtcXgCF"
      },
      "source": [
        "in_image = cv2.imread(\"/content/drive/MyDrive/Colab Notebooks/lena.bmp\")"
      ],
      "execution_count": 2,
      "outputs": []
    },
    {
      "cell_type": "markdown",
      "metadata": {
        "id": "RDFbMgibXsNo"
      },
      "source": [
        "Step3: dispaly the image"
      ]
    },
    {
      "cell_type": "code",
      "metadata": {
        "id": "J5dCiHq4Xzo7"
      },
      "source": [
        "colab.cv2_imshow(in_image)"
      ],
      "execution_count": null,
      "outputs": []
    },
    {
      "cell_type": "markdown",
      "metadata": {
        "id": "BkJedSZ9YFK3"
      },
      "source": [
        ""
      ]
    }
  ]
}