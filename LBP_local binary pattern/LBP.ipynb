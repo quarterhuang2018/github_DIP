{
  "nbformat": 4,
  "nbformat_minor": 0,
  "metadata": {
    "colab": {
      "provenance": [],
      "collapsed_sections": [],
      "toc_visible": true
    },
    "kernelspec": {
      "name": "python3",
      "display_name": "Python 3"
    },
    "language_info": {
      "name": "python"
    }
  },
  "cells": [
    {
      "cell_type": "code",
      "execution_count": 1,
      "metadata": {
        "id": "QX6YsH4OT8r-"
      },
      "outputs": [],
      "source": [
        "import cv2\n",
        "import google.colab.patches as colab\n",
        "import matplotlib.pyplot as plt\n",
        "import numpy"
      ]
    },
    {
      "cell_type": "code",
      "source": [
        "in_mat = cv2.imread(\"/content/drive/MyDrive/Colab Notebooks/LBP_local binary pattern/cifar10.bmp\", 0)\n",
        "colab.cv2_imshow(in_mat)"
      ],
      "metadata": {
        "colab": {
          "base_uri": "https://localhost:8080/",
          "height": 49
        },
        "id": "NuTi43RNUN2O",
        "outputId": "c953e6fa-6249-4468-c07a-eae094f81b1a"
      },
      "execution_count": 2,
      "outputs": [
        {
          "output_type": "display_data",
          "data": {
            "text/plain": [
              "<PIL.Image.Image image mode=L size=32x32 at 0x7FBBA6E8A3D0>"
            ],
            "image/png": "[encoded data removed]"
          },
          "metadata": {}
        }
      ]
    },
    {
      "cell_type": "code",
      "source": [
        "map = numpy.array([0, 1,  2,  3,  4, 58,  5,  6,  7, 58, 58, 58,\n",
        "           8, 58,  9, 10, 11, 58, 58, 58, 58, 58, 58, 58,\n",
        "          12, 58, 58, 58, 13, 58, 14, 15, 16, 58, 58, 58, 58, 58, 58, 58,\n",
        "          58, 58, 58, 58, 58, 58, 58, 58, 17, 58, 58, 58, 58, 58, 58, 58,\n",
        "          18, 58, 58, 58, 19, 58, 20, 21, 22, 58, 58, 58, 58, 58, 58, 58,\n",
        "          58, 58, 58, 58, 58, 58, 58, 58, 58, 58, 58, 58, 58, 58, 58, 58,\n",
        "          58, 58, 58, 58, 58, 58, 58, 58, 23, 58, 58, 58, 58, 58, 58, 58,\n",
        "          58, 58, 58, 58, 58, 58, 58, 58, 24, 58, 58, 58, 58, 58, 58, 58,\n",
        "          25, 58, 58, 58, 26, 58, 27, 28, 29, 30, 58, 31, 58, 58, 58, 32,\n",
        "          58, 58, 58, 58, 58, 58, 58, 33, 58, 58, 58, 58, 58, 58, 58, 58,\n",
        "          58, 58, 58, 58, 58, 58, 58, 34, 58, 58, 58, 58, 58, 58, 58, 58,\n",
        "          58, 58, 58, 58, 58, 58, 58, 58, 58, 58, 58, 58, 58, 58, 58, 58,\n",
        "          58, 58, 58, 58, 58, 58, 58, 35, 36, 37, 58, 38, 58, 58, 58, 39,\n",
        "          58, 58, 58, 58, 58, 58, 58, 40, 58, 58, 58, 58, 58, 58, 58, 58,\n",
        "          58, 58, 58, 58, 58, 58, 58, 41, 42, 43, 58, 44, 58, 58, 58, 45,\n",
        "          58, 58, 58, 58, 58, 58, 58, 46, 47, 48, 58, 49, 58, 58, 58, 50,\n",
        "          51, 52, 58, 53, 54, 55, 56, 57])"
      ],
      "metadata": {
        "id": "_O5Fo0eyolwT"
      },
      "execution_count": 3,
      "outputs": []
    },
    {
      "cell_type": "code",
      "source": [
        "LBP_hist = numpy.zeros(59, dtype=numpy.float32)"
      ],
      "metadata": {
        "id": "R91JT_KiUSTl"
      },
      "execution_count": 4,
      "outputs": []
    },
    {
      "cell_type": "code",
      "source": [
        "# define the offsets of 8 neighbor points\n",
        "neighbor_offset = numpy.array([[0, 1], [-1, 1], [-1, 0], [-1, -1],\n",
        "                [0, -1], [1, -1], [1, 0], [1, 1]])\n"
      ],
      "metadata": {
        "id": "ygUX6PnxUgC1"
      },
      "execution_count": 5,
      "outputs": []
    },
    {
      "cell_type": "markdown",
      "source": [
        "get the rows and cols of the input image"
      ],
      "metadata": {
        "id": "wAgU6giQ8agI"
      }
    },
    {
      "cell_type": "code",
      "source": [
        "rows = in_mat.shape[0]\n",
        "cols = in_mat.shape[1]"
      ],
      "metadata": {
        "id": "4hFjvS-38eL-"
      },
      "execution_count": 6,
      "outputs": []
    },
    {
      "cell_type": "code",
      "source": [
        "for row in range(1,rows-1):\n",
        "  for col in range(1, cols-1):\n",
        "  \n",
        "    # get the center intensity\n",
        "    g = in_mat[row, col]\n",
        "\n",
        "    # threshold neighbor intensity by g\n",
        "    code_256L = 0\n",
        "    mask = 0x01\n",
        "\n",
        "    for i in range(len(neighbor_offset)):\n",
        "      neighbor_pos = [row, col] + neighbor_offset[i]\n",
        "\n",
        "      # get the intensity of ith neighbor point\n",
        "      g_i = in_mat[neighbor_pos[0], neighbor_pos[1]]\n",
        "\n",
        "      # binarization\n",
        "      if g_i >= g:\n",
        "        code_256L = code_256L | mask\n",
        "      \n",
        "      # shift one-bit left\n",
        "      mask = mask << 1\n",
        "\n",
        "    # voting\n",
        "    code_59L = map[code_256L]\n",
        "    LBP_hist[code_59L] = LBP_hist[code_59L] + 1\n",
        "    "
      ],
      "metadata": {
        "id": "CNOgJUasUYsd"
      },
      "execution_count": 7,
      "outputs": []
    },
    {
      "cell_type": "markdown",
      "source": [
        "perform the normalization and polt the LBP histogram"
      ],
      "metadata": {
        "id": "fsX5Izfo8oCs"
      }
    },
    {
      "cell_type": "code",
      "source": [
        "LBP_hist = LBP_hist / ((rows-2) * (cols-2))\n",
        "plt.bar(range(LBP_hist.shape[0]), LBP_hist)"
      ],
      "metadata": {
        "colab": {
          "base_uri": "https://localhost:8080/",
          "height": 283
        },
        "id": "-Kaz7UzFgVTH",
        "outputId": "7b659789-f1e2-4d55-ba35-6e705b7f83c7"
      },
      "execution_count": 8,
      "outputs": [
        {
          "output_type": "execute_result",
          "data": {
            "text/plain": [
              "<BarContainer object of 59 artists>"
            ]
          },
          "metadata": {},
          "execution_count": 8
        },
        {
          "output_type": "display_data",
          "data": {
            "text/plain": [
              "<Figure size 432x288 with 1 Axes>"
            ],
            "image/png": "[encoded data removed]"
          },
          "metadata": {
            "needs_background": "light"
          }
        }
      ]
    }
  ]
}